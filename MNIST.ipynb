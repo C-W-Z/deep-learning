{
  "nbformat": 4,
  "nbformat_minor": 0,
  "metadata": {
    "colab": {
      "provenance": [],
      "gpuType": "T4",
      "authorship_tag": "ABX9TyOsTjeMHJ0itT1s7uwXuR1v",
      "include_colab_link": true
    },
    "kernelspec": {
      "name": "python3",
      "display_name": "Python 3"
    },
    "language_info": {
      "name": "python"
    },
    "accelerator": "GPU"
  },
  "cells": [
    {
      "cell_type": "markdown",
      "metadata": {
        "id": "view-in-github",
        "colab_type": "text"
      },
      "source": [
        "<a href=\"https://colab.research.google.com/github/C-W-Z/deep-learning/blob/master/MNIST.ipynb\" target=\"_parent\"><img src=\"https://colab.research.google.com/assets/colab-badge.svg\" alt=\"Open In Colab\"/></a>"
      ]
    },
    {
      "cell_type": "code",
      "source": [
        "import numpy as np\n",
        "import torch\n",
        "import torch.nn as nn\n",
        "import torch.nn.functional as F\n",
        "import torch.optim as optim\n",
        "from torchvision import datasets, transforms\n",
        "from torch.utils.data import DataLoader, TensorDataset"
      ],
      "metadata": {
        "id": "3JHFa-9MTx_y"
      },
      "execution_count": 163,
      "outputs": []
    },
    {
      "cell_type": "code",
      "source": [
        "print(torch.__version__)\n",
        "\n",
        "print(torch.cuda.is_available())\n",
        "print(torch.cuda.device_count())\n",
        "# print(torch.cuda.current_device())\n",
        "# print(torch.cuda.device(0))\n",
        "# print(torch.cuda.get_device_name(0))\n",
        "\n",
        "# get device\n",
        "device = torch.device(\"cuda:0\" if torch.cuda.is_available() else \"cpu\")\n",
        "print(device)\n",
        "\n",
        "# Check GPU details with nvidia-smi\n",
        "!nvidia-smi"
      ],
      "metadata": {
        "colab": {
          "base_uri": "https://localhost:8080/"
        },
        "collapsed": true,
        "id": "-OXKO4KG8s6A",
        "outputId": "199ab563-c58e-4035-fcdc-ef1361589ba5"
      },
      "execution_count": null,
      "outputs": [
        {
          "output_type": "stream",
          "name": "stdout",
          "text": [
            "2.3.1+cu121\n",
            "False\n",
            "0\n",
            "cpu\n",
            "/bin/bash: line 1: nvidia-smi: command not found\n"
          ]
        }
      ]
    },
    {
      "cell_type": "code",
      "source": [
        "from keras.datasets import mnist\n",
        "(X_train, y_train), (X_test, y_test) = mnist.load_data()"
      ],
      "metadata": {
        "id": "P-7S1OZbXiTK"
      },
      "execution_count": 166,
      "outputs": []
    },
    {
      "cell_type": "code",
      "source": [
        "print(X_train.shape, y_train.shape, X_test.shape, y_train.shape)"
      ],
      "metadata": {
        "colab": {
          "base_uri": "https://localhost:8080/"
        },
        "id": "1V4oHka1X1TI",
        "outputId": "13aa2fab-f29a-4ab6-bad6-d7b4d8a45840"
      },
      "execution_count": 167,
      "outputs": [
        {
          "output_type": "stream",
          "name": "stdout",
          "text": [
            "(60000, 28, 28) (60000,) (10000, 28, 28) (60000,)\n"
          ]
        }
      ]
    },
    {
      "cell_type": "code",
      "source": [
        "import matplotlib.pyplot as plt\n",
        "\n",
        "def plot_img(img):\n",
        "    img = np.array(img)\n",
        "    img.shape = (28,28)\n",
        "    plt.imshow(img, cmap='gray')\n",
        "    plt.show()"
      ],
      "metadata": {
        "id": "kAuYuunCX5CO"
      },
      "execution_count": 164,
      "outputs": []
    },
    {
      "cell_type": "code",
      "source": [
        "print(y_train[5])\n",
        "plot_img(X_train[5])"
      ],
      "metadata": {
        "id": "r9MIS7XEYXtj",
        "colab": {
          "base_uri": "https://localhost:8080/",
          "height": 447
        },
        "outputId": "977ecc63-4163-4289-9640-70946d2df07a"
      },
      "execution_count": null,
      "outputs": [
        {
          "output_type": "stream",
          "name": "stdout",
          "text": [
            "2\n"
          ]
        },
        {
          "output_type": "display_data",
          "data": {
            "text/plain": [
              "<Figure size 640x480 with 1 Axes>"
            ],
            "image/png": "[encoded data removed]"
          },
          "metadata": {}
        }
      ]
    },
    {
      "cell_type": "markdown",
      "source": [
        "# Preprocessing"
      ],
      "metadata": {
        "id": "U3GPxaeeZoBa"
      }
    },
    {
      "cell_type": "code",
      "source": [
        "# Reshape (?, 28, 28) to (?, 784)\n",
        "# X_train = X_train.reshape(X_train.shape[0], -1)\n",
        "# X_test = X_test.reshape(X_test.shape[0], -1)"
      ],
      "metadata": {
        "collapsed": true,
        "id": "EQci-mIESS9a"
      },
      "execution_count": null,
      "outputs": []
    },
    {
      "cell_type": "code",
      "source": [
        "print(X_train.shape, X_test.shape)"
      ],
      "metadata": {
        "id": "9EUIa4jNaZ2u"
      },
      "execution_count": null,
      "outputs": []
    },
    {
      "cell_type": "code",
      "source": [
        "# Normalize\n",
        "X_train = X_train.astype('float32') / 255\n",
        "X_test = X_test.astype('float32') / 255"
      ],
      "metadata": {
        "id": "BP9PsmIWZV6y"
      },
      "execution_count": 168,
      "outputs": []
    },
    {
      "cell_type": "code",
      "source": [
        "print(X_train.mean(), X_train.std())\n",
        "print(X_test.mean(), X_test.std())"
      ],
      "metadata": {
        "colab": {
          "base_uri": "https://localhost:8080/"
        },
        "id": "o1qc9F5zfIpX",
        "outputId": "6ce6ec6c-6c66-4b25-b702-c0136fa12375"
      },
      "execution_count": null,
      "outputs": [
        {
          "output_type": "stream",
          "name": "stdout",
          "text": [
            "0.13066062 0.30810776\n",
            "0.13251467 0.31048027\n"
          ]
        }
      ]
    },
    {
      "cell_type": "code",
      "source": [
        "# one hot encoding for 10 classes\n",
        "y_train = np.eye(10)[y_train]\n",
        "y_test = np.eye(10)[y_test]"
      ],
      "metadata": {
        "id": "oDq5ibW7Z_LG"
      },
      "execution_count": 169,
      "outputs": []
    },
    {
      "cell_type": "code",
      "source": [
        "print(y_train.shape, y_test.shape)"
      ],
      "metadata": {
        "colab": {
          "base_uri": "https://localhost:8080/"
        },
        "id": "8nD3SinyaV0A",
        "outputId": "0da76c62-de72-464a-926b-2dbeee275cc4"
      },
      "execution_count": 170,
      "outputs": [
        {
          "output_type": "stream",
          "name": "stdout",
          "text": [
            "(60000, 10) (10000, 10)\n"
          ]
        }
      ]
    },
    {
      "cell_type": "code",
      "source": [
        "# convert data to tensor\n",
        "X_train = torch.tensor(X_train)\n",
        "y_train = torch.tensor(y_train)\n",
        "X_test = torch.tensor(X_test)\n",
        "y_test = torch.tensor(y_test)"
      ],
      "metadata": {
        "id": "biUBCubyaiKq"
      },
      "execution_count": 171,
      "outputs": []
    },
    {
      "cell_type": "code",
      "source": [
        "print(type(X_train))"
      ],
      "metadata": {
        "colab": {
          "base_uri": "https://localhost:8080/"
        },
        "id": "TnAlLT0JbYsf",
        "outputId": "729ce1b3-ac90-4ef0-de9d-c05a996a4597"
      },
      "execution_count": 172,
      "outputs": [
        {
          "output_type": "stream",
          "name": "stdout",
          "text": [
            "<class 'torch.Tensor'>\n"
          ]
        }
      ]
    },
    {
      "cell_type": "code",
      "source": [
        "# put data to Device\n",
        "X_train = X_train.to(device)\n",
        "y_train = y_train.to(device)\n",
        "X_test = X_test.to(device)\n",
        "y_test = y_test.to(device)"
      ],
      "metadata": {
        "id": "jjPqoECxbDtK"
      },
      "execution_count": 173,
      "outputs": []
    },
    {
      "cell_type": "code",
      "source": [
        "print(X_train.device)"
      ],
      "metadata": {
        "colab": {
          "base_uri": "https://localhost:8080/"
        },
        "id": "6nBEWhB7bQIu",
        "outputId": "89325db8-379f-49fb-8270-88c7d77e2b4d"
      },
      "execution_count": 174,
      "outputs": [
        {
          "output_type": "stream",
          "name": "stdout",
          "text": [
            "cpu\n"
          ]
        }
      ]
    },
    {
      "cell_type": "code",
      "source": [
        "EPOCH = 2\n",
        "BATCH_SIZE = 32\n",
        "LEARNING_RATE = 0.001"
      ],
      "metadata": {
        "id": "1Y1VcvXDTIsF"
      },
      "execution_count": 175,
      "outputs": []
    },
    {
      "cell_type": "code",
      "source": [
        "# construct data loader\n",
        "dataset_train = TensorDataset(X_train, y_train)\n",
        "dataset_test = TensorDataset(X_test, y_test)\n",
        "loader_train = DataLoader(dataset_train, batch_size=BATCH_SIZE, shuffle=True)\n",
        "loader_test = DataLoader(dataset_test, batch_size=BATCH_SIZE, shuffle=True)"
      ],
      "metadata": {
        "id": "PxdbuU_ybdTc"
      },
      "execution_count": 176,
      "outputs": []
    },
    {
      "cell_type": "markdown",
      "source": [
        "# Model"
      ],
      "metadata": {
        "id": "SVdF_18wcSOk"
      }
    },
    {
      "cell_type": "code",
      "source": [
        "class CNN(nn.Module):\n",
        "  def __init__(self):\n",
        "    super(CNN, self).__init__()\n",
        "    self.conv = nn.Sequential(\n",
        "        nn.Conv2d(in_channels=1, out_channels=16, kernel_size=3, stride=1, padding=1),  # (1, 28, 28) -> (16, 28, 28)\n",
        "        nn.ReLU(),\n",
        "        nn.BatchNorm2d(16),\n",
        "        nn.MaxPool2d(kernel_size=2, stride=2, padding=0),                               # (16, 28, 28) -> (16, 14, 14)\n",
        "        nn.Conv2d(in_channels=16, out_channels=32, kernel_size=3, stride=1, padding=1), # (16, 14, 14) -> (32, 14, 14)\n",
        "        # nn.BatchNorm2d(32),\n",
        "        nn.ReLU(),\n",
        "        nn.MaxPool2d(kernel_size=2, stride=2, padding=0)                                # (32, 14, 14) -> (32, 7, 7)\n",
        "    )\n",
        "    self.fc = nn.Sequential(\n",
        "        nn.Linear(32 * 7 * 7, 128),\n",
        "        nn.ReLU(),\n",
        "        nn.Linear(128, 10)\n",
        "    )\n",
        "\n",
        "  def forward(self, x):\n",
        "    x = self.conv(x)\n",
        "    x = x.view(-1, 32 * 7 * 7)\n",
        "    return self.fc(x)"
      ],
      "metadata": {
        "id": "3FRi5Cc8TejP"
      },
      "execution_count": 192,
      "outputs": []
    },
    {
      "cell_type": "code",
      "source": [
        "model = CNN().to(device)\n",
        "criterion = nn.CrossEntropyLoss()\n",
        "optimizer = optim.Adam(model.parameters(), lr=LEARNING_RATE)"
      ],
      "metadata": {
        "id": "NrLS4JRpoQ2W"
      },
      "execution_count": 193,
      "outputs": []
    },
    {
      "cell_type": "code",
      "source": [
        "from torchsummary import summary\n",
        "\n",
        "print(model)\n",
        "summary(model, (1, 28, 28)) # (channel, height, width)"
      ],
      "metadata": {
        "id": "ucgJyX81sCP5",
        "colab": {
          "base_uri": "https://localhost:8080/"
        },
        "outputId": "3045f799-9ef4-41ad-c236-ee8b9e0c753e"
      },
      "execution_count": 194,
      "outputs": [
        {
          "output_type": "stream",
          "name": "stdout",
          "text": [
            "CNN(\n",
            "  (conv): Sequential(\n",
            "    (0): Conv2d(1, 16, kernel_size=(3, 3), stride=(1, 1), padding=(1, 1))\n",
            "    (1): ReLU()\n",
            "    (2): BatchNorm2d(16, eps=1e-05, momentum=0.1, affine=True, track_running_stats=True)\n",
            "    (3): MaxPool2d(kernel_size=2, stride=2, padding=0, dilation=1, ceil_mode=False)\n",
            "    (4): Conv2d(16, 32, kernel_size=(3, 3), stride=(1, 1), padding=(1, 1))\n",
            "    (5): ReLU()\n",
            "    (6): MaxPool2d(kernel_size=2, stride=2, padding=0, dilation=1, ceil_mode=False)\n",
            "  )\n",
            "  (fc): Sequential(\n",
            "    (0): Linear(in_features=1568, out_features=128, bias=True)\n",
            "    (1): ReLU()\n",
            "    (2): Linear(in_features=128, out_features=10, bias=True)\n",
            "  )\n",
            ")\n",
            "----------------------------------------------------------------\n",
            "        Layer (type)               Output Shape         Param #\n",
            "================================================================\n",
            "            Conv2d-1           [-1, 16, 28, 28]             160\n",
            "              ReLU-2           [-1, 16, 28, 28]               0\n",
            "       BatchNorm2d-3           [-1, 16, 28, 28]              32\n",
            "         MaxPool2d-4           [-1, 16, 14, 14]               0\n",
            "            Conv2d-5           [-1, 32, 14, 14]           4,640\n",
            "              ReLU-6           [-1, 32, 14, 14]               0\n",
            "         MaxPool2d-7             [-1, 32, 7, 7]               0\n",
            "            Linear-8                  [-1, 128]         200,832\n",
            "              ReLU-9                  [-1, 128]               0\n",
            "           Linear-10                   [-1, 10]           1,290\n",
            "================================================================\n",
            "Total params: 206,954\n",
            "Trainable params: 206,954\n",
            "Non-trainable params: 0\n",
            "----------------------------------------------------------------\n",
            "Input size (MB): 0.00\n",
            "Forward/backward pass size (MB): 0.42\n",
            "Params size (MB): 0.79\n",
            "Estimated Total Size (MB): 1.21\n",
            "----------------------------------------------------------------\n"
          ]
        }
      ]
    },
    {
      "cell_type": "markdown",
      "source": [
        "# Train & Test"
      ],
      "metadata": {
        "id": "gLgWUhQ8t_aX"
      }
    },
    {
      "cell_type": "code",
      "source": [
        "# prompt: Train the model with loader_train & save it, afterward, load the model and train again\n",
        "\n",
        "def train_model(model, loader_train, optimizer, criterion, EPOCH):\n",
        "  # Train the model with loader_train\n",
        "  model.train()\n",
        "  for epoch in range(EPOCH):\n",
        "    for batch_idx, (X, y) in enumerate(loader_train):\n",
        "      # reshape mini-batch data to (batch_size, 1, 28, 28)\n",
        "      X = X.view(-1, 1, 28, 28)\n",
        "      # set gradients to zero\n",
        "      optimizer.zero_grad()\n",
        "      # forward pass\n",
        "      output = model(X)\n",
        "      # calculate loss\n",
        "      loss = criterion(output, y)\n",
        "      # backward pass\n",
        "      loss.backward()\n",
        "      # update parameters\n",
        "      optimizer.step()\n",
        "\n",
        "      batch_idx += 1\n",
        "      if batch_idx % (len(loader_train) / 10) == 0:\n",
        "        print('Train Epoch: {} [{}/{} ({:.0f}%)]\\tLoss: {:.6f}'.format(\n",
        "          epoch, batch_idx * len(X), len(loader_train.dataset),\n",
        "          100. * batch_idx / len(loader_train), loss.item()))\n",
        "\n",
        "  # Save the model\n",
        "  torch.save({\n",
        "    'model_state_dict': model.state_dict(),\n",
        "    'optimizer_state_dict': optimizer.state_dict()\n",
        "  }, 'mnist_cnn.pth')"
      ],
      "metadata": {
        "id": "2qQabQR4IAdb"
      },
      "execution_count": 195,
      "outputs": []
    },
    {
      "cell_type": "code",
      "source": [
        "train_model(model, loader_train, optimizer, criterion, EPOCH)"
      ],
      "metadata": {
        "colab": {
          "base_uri": "https://localhost:8080/"
        },
        "id": "tm0fTRUOJvco",
        "outputId": "9013e6a9-fb67-4f82-ffc5-c45abf42397f"
      },
      "execution_count": 196,
      "outputs": [
        {
          "output_type": "stream",
          "name": "stdout",
          "text": [
            "Train Epoch: 0 [12000/60000 (20%)]\tLoss: 0.040331\n",
            "Train Epoch: 0 [24000/60000 (40%)]\tLoss: 0.006736\n",
            "Train Epoch: 0 [36000/60000 (60%)]\tLoss: 0.027358\n",
            "Train Epoch: 0 [48000/60000 (80%)]\tLoss: 0.081097\n",
            "Train Epoch: 0 [60000/60000 (100%)]\tLoss: 0.014119\n",
            "Train Epoch: 1 [12000/60000 (20%)]\tLoss: 0.007318\n",
            "Train Epoch: 1 [24000/60000 (40%)]\tLoss: 0.002987\n",
            "Train Epoch: 1 [36000/60000 (60%)]\tLoss: 0.003115\n",
            "Train Epoch: 1 [48000/60000 (80%)]\tLoss: 0.046102\n",
            "Train Epoch: 1 [60000/60000 (100%)]\tLoss: 0.006849\n"
          ]
        }
      ]
    },
    {
      "cell_type": "code",
      "source": [
        "# Load the model\n",
        "mnist_cnn = torch.load('mnist_cnn.pth')\n",
        "model = CNN().to(device)\n",
        "model.load_state_dict(mnist_cnn['model_state_dict'])\n",
        "optimizer.load_state_dict(mnist_cnn['optimizer_state_dict'])\n",
        "\n",
        "# Train the model again\n",
        "train_model(model, loader_train, optimizer, criterion, EPOCH)"
      ],
      "metadata": {
        "colab": {
          "base_uri": "https://localhost:8080/"
        },
        "id": "PhAW6ok2JtxH",
        "outputId": "b3ad0ffa-6c3f-443d-e327-48b2d6361a15"
      },
      "execution_count": 198,
      "outputs": [
        {
          "output_type": "stream",
          "name": "stdout",
          "text": [
            "Train Epoch: 0 [12000/60000 (20%)]\tLoss: 0.053540\n",
            "Train Epoch: 0 [24000/60000 (40%)]\tLoss: 0.003245\n",
            "Train Epoch: 0 [36000/60000 (60%)]\tLoss: 0.024647\n",
            "Train Epoch: 0 [48000/60000 (80%)]\tLoss: 0.023323\n",
            "Train Epoch: 0 [60000/60000 (100%)]\tLoss: 0.022234\n",
            "Train Epoch: 1 [12000/60000 (20%)]\tLoss: 0.017467\n",
            "Train Epoch: 1 [24000/60000 (40%)]\tLoss: 0.004459\n",
            "Train Epoch: 1 [36000/60000 (60%)]\tLoss: 0.043940\n",
            "Train Epoch: 1 [48000/60000 (80%)]\tLoss: 0.010792\n",
            "Train Epoch: 1 [60000/60000 (100%)]\tLoss: 0.046247\n"
          ]
        }
      ]
    },
    {
      "cell_type": "code",
      "source": [
        "# prompt: Test the model with loader_test or X_test & y_test\n",
        "\n",
        "# Test\n",
        "correct = 0\n",
        "total = 0\n",
        "model.eval()\n",
        "with torch.no_grad():\n",
        "  for X, y in loader_test:\n",
        "    X = X.view(-1, 1, 28, 28)\n",
        "    output = model(X)\n",
        "    _, predicted = torch.max(output.data, 1)\n",
        "    _, true_label = torch.max(y.data, 1)\n",
        "    total += y.size(0)\n",
        "    correct += (predicted == true_label).sum().item()\n",
        "\n",
        "print('Accuracy of the network on the', total, 'test images:', correct, '/', total, '=', (100 * correct / total), '%')\n"
      ],
      "metadata": {
        "colab": {
          "base_uri": "https://localhost:8080/"
        },
        "id": "H6yBmZTwu4hW",
        "outputId": "d912c859-e639-46fc-d11c-e7e39f067ad6"
      },
      "execution_count": 199,
      "outputs": [
        {
          "output_type": "stream",
          "name": "stdout",
          "text": [
            "Accuracy of the network on the 10000 test images: 9865 / 10000 = 98.65 %\n"
          ]
        }
      ]
    },
    {
      "cell_type": "markdown",
      "source": [
        "# Test"
      ],
      "metadata": {
        "id": "Q2D1mDdb0Kek"
      }
    },
    {
      "cell_type": "code",
      "source": [
        "from google.colab import files\n",
        "uploaded = files.upload()"
      ],
      "metadata": {
        "colab": {
          "base_uri": "https://localhost:8080/",
          "height": 76
        },
        "id": "L88ND6l-w3et",
        "outputId": "cb5d1bf4-d45d-494b-de5c-19e8a676ba33"
      },
      "execution_count": null,
      "outputs": [
        {
          "output_type": "display_data",
          "data": {
            "text/plain": [
              "<IPython.core.display.HTML object>"
            ],
            "text/html": [
              "\n",
              "     <input type=\"file\" id=\"files-2f93da5c-a874-45fc-9782-eba2333b61f9\" name=\"files[]\" multiple disabled\n",
              "        style=\"border:none\" />\n",
              "     <output id=\"result-2f93da5c-a874-45fc-9782-eba2333b61f9\">\n",
              "      Upload widget is only available when the cell has been executed in the\n",
              "      current browser session. Please rerun this cell to enable.\n",
              "      </output>\n",
              "      <script>// Copyright 2017 Google LLC\n",
              "//\n",
              "// Licensed under the Apache License, Version 2.0 (the \"License\");\n",
              "// you may not use this file except in compliance with the License.\n",
              "// You may obtain a copy of the License at\n",
              "//\n",
              "//      http://www.apache.org/licenses/LICENSE-2.0\n",
              "//\n",
              "// Unless required by applicable law or agreed to in writing, software\n",
              "// distributed under the License is distributed on an \"AS IS\" BASIS,\n",
              "// WITHOUT WARRANTIES OR CONDITIONS OF ANY KIND, either express or implied.\n",
              "// See the License for the specific language governing permissions and\n",
              "// limitations under the License.\n",
              "\n",
              "/**\n",
              " * @fileoverview Helpers for google.colab Python module.\n",
              " */\n",
              "(function(scope) {\n",
              "function span(text, styleAttributes = {}) {\n",
              "  const element = document.createElement('span');\n",
              "  element.textContent = text;\n",
              "  for (const key of Object.keys(styleAttributes)) {\n",
              "    element.style[key] = styleAttributes[key];\n",
              "  }\n",
              "  return element;\n",
              "}\n",
              "\n",
              "// Max number of bytes which will be uploaded at a time.\n",
              "const MAX_PAYLOAD_SIZE = 100 * 1024;\n",
              "\n",
              "function _uploadFiles(inputId, outputId) {\n",
              "  const steps = uploadFilesStep(inputId, outputId);\n",
              "  const outputElement = document.getElementById(outputId);\n",
              "  // Cache steps on the outputElement to make it available for the next call\n",
              "  // to uploadFilesContinue from Python.\n",
              "  outputElement.steps = steps;\n",
              "\n",
              "  return _uploadFilesContinue(outputId);\n",
              "}\n",
              "\n",
              "// This is roughly an async generator (not supported in the browser yet),\n",
              "// where there are multiple asynchronous steps and the Python side is going\n",
              "// to poll for completion of each step.\n",
              "// This uses a Promise to block the python side on completion of each step,\n",
              "// then passes the result of the previous step as the input to the next step.\n",
              "function _uploadFilesContinue(outputId) {\n",
              "  const outputElement = document.getElementById(outputId);\n",
              "  const steps = outputElement.steps;\n",
              "\n",
              "  const next = steps.next(outputElement.lastPromiseValue);\n",
              "  return Promise.resolve(next.value.promise).then((value) => {\n",
              "    // Cache the last promise value to make it available to the next\n",
              "    // step of the generator.\n",
              "    outputElement.lastPromiseValue = value;\n",
              "    return next.value.response;\n",
              "  });\n",
              "}\n",
              "\n",
              "/**\n",
              " * Generator function which is called between each async step of the upload\n",
              " * process.\n",
              " * @param {string} inputId Element ID of the input file picker element.\n",
              " * @param {string} outputId Element ID of the output display.\n",
              " * @return {!Iterable<!Object>} Iterable of next steps.\n",
              " */\n",
              "function* uploadFilesStep(inputId, outputId) {\n",
              "  const inputElement = document.getElementById(inputId);\n",
              "  inputElement.disabled = false;\n",
              "\n",
              "  const outputElement = document.getElementById(outputId);\n",
              "  outputElement.innerHTML = '';\n",
              "\n",
              "  const pickedPromise = new Promise((resolve) => {\n",
              "    inputElement.addEventListener('change', (e) => {\n",
              "      resolve(e.target.files);\n",
              "    });\n",
              "  });\n",
              "\n",
              "  const cancel = document.createElement('button');\n",
              "  inputElement.parentElement.appendChild(cancel);\n",
              "  cancel.textContent = 'Cancel upload';\n",
              "  const cancelPromise = new Promise((resolve) => {\n",
              "    cancel.onclick = () => {\n",
              "      resolve(null);\n",
              "    };\n",
              "  });\n",
              "\n",
              "  // Wait for the user to pick the files.\n",
              "  const files = yield {\n",
              "    promise: Promise.race([pickedPromise, cancelPromise]),\n",
              "    response: {\n",
              "      action: 'starting',\n",
              "    }\n",
              "  };\n",
              "\n",
              "  cancel.remove();\n",
              "\n",
              "  // Disable the input element since further picks are not allowed.\n",
              "  inputElement.disabled = true;\n",
              "\n",
              "  if (!files) {\n",
              "    return {\n",
              "      response: {\n",
              "        action: 'complete',\n",
              "      }\n",
              "    };\n",
              "  }\n",
              "\n",
              "  for (const file of files) {\n",
              "    const li = document.createElement('li');\n",
              "    li.append(span(file.name, {fontWeight: 'bold'}));\n",
              "    li.append(span(\n",
              "        `(${file.type || 'n/a'}) - ${file.size} bytes, ` +\n",
              "        `last modified: ${\n",
              "            file.lastModifiedDate ? file.lastModifiedDate.toLocaleDateString() :\n",
              "                                    'n/a'} - `));\n",
              "    const percent = span('0% done');\n",
              "    li.appendChild(percent);\n",
              "\n",
              "    outputElement.appendChild(li);\n",
              "\n",
              "    const fileDataPromise = new Promise((resolve) => {\n",
              "      const reader = new FileReader();\n",
              "      reader.onload = (e) => {\n",
              "        resolve(e.target.result);\n",
              "      };\n",
              "      reader.readAsArrayBuffer(file);\n",
              "    });\n",
              "    // Wait for the data to be ready.\n",
              "    let fileData = yield {\n",
              "      promise: fileDataPromise,\n",
              "      response: {\n",
              "        action: 'continue',\n",
              "      }\n",
              "    };\n",
              "\n",
              "    // Use a chunked sending to avoid message size limits. See b/62115660.\n",
              "    let position = 0;\n",
              "    do {\n",
              "      const length = Math.min(fileData.byteLength - position, MAX_PAYLOAD_SIZE);\n",
              "      const chunk = new Uint8Array(fileData, position, length);\n",
              "      position += length;\n",
              "\n",
              "      const base64 = btoa(String.fromCharCode.apply(null, chunk));\n",
              "      yield {\n",
              "        response: {\n",
              "          action: 'append',\n",
              "          file: file.name,\n",
              "          data: base64,\n",
              "        },\n",
              "      };\n",
              "\n",
              "      let percentDone = fileData.byteLength === 0 ?\n",
              "          100 :\n",
              "          Math.round((position / fileData.byteLength) * 100);\n",
              "      percent.textContent = `${percentDone}% done`;\n",
              "\n",
              "    } while (position < fileData.byteLength);\n",
              "  }\n",
              "\n",
              "  // All done.\n",
              "  yield {\n",
              "    response: {\n",
              "      action: 'complete',\n",
              "    }\n",
              "  };\n",
              "}\n",
              "\n",
              "scope.google = scope.google || {};\n",
              "scope.google.colab = scope.google.colab || {};\n",
              "scope.google.colab._files = {\n",
              "  _uploadFiles,\n",
              "  _uploadFilesContinue,\n",
              "};\n",
              "})(self);\n",
              "</script> "
            ]
          },
          "metadata": {}
        },
        {
          "output_type": "stream",
          "name": "stdout",
          "text": [
            "Saving test.png to test.png\n"
          ]
        }
      ]
    },
    {
      "cell_type": "code",
      "source": [
        "import cv2\n",
        "\n",
        "img = cv2.imread('test.png', cv2.IMREAD_GRAYSCALE)\n",
        "img = 255 - img\n",
        "print(img.shape)\n",
        "plot_img(img)"
      ],
      "metadata": {
        "colab": {
          "base_uri": "https://localhost:8080/",
          "height": 447
        },
        "id": "iShcqFYXx_M5",
        "outputId": "f5b34067-8db9-40d5-8359-cfccb847e958"
      },
      "execution_count": 200,
      "outputs": [
        {
          "output_type": "stream",
          "name": "stdout",
          "text": [
            "(28, 28)\n"
          ]
        },
        {
          "output_type": "display_data",
          "data": {
            "text/plain": [
              "<Figure size 640x480 with 1 Axes>"
            ],
            "image/png": "[encoded data removed]"
          },
          "metadata": {}
        }
      ]
    },
    {
      "cell_type": "code",
      "source": [
        "# prompt: Write a function to predict a 28*28 image\n",
        "\n",
        "def predict_img(img):\n",
        "  # Preprocessing\n",
        "  img = cv2.resize(img, (28, 28))\n",
        "  img = img.astype('float32') / 255\n",
        "  img = torch.tensor(img)\n",
        "  img = img.view(-1, 1, 28, 28)\n",
        "  img = img.to(device)\n",
        "  # Predict\n",
        "  with torch.no_grad():\n",
        "    output = model(img)\n",
        "    _, predicted = torch.max(output.data, 1)\n",
        "    return predicted.item()\n"
      ],
      "metadata": {
        "id": "ONhwb-VuyY7I"
      },
      "execution_count": 201,
      "outputs": []
    },
    {
      "cell_type": "code",
      "source": [
        "predict_img(img)"
      ],
      "metadata": {
        "colab": {
          "base_uri": "https://localhost:8080/"
        },
        "id": "mPvmTgHLyv8H",
        "outputId": "e4a94c4b-c5f1-45cc-c164-2f908cd70142"
      },
      "execution_count": 202,
      "outputs": [
        {
          "output_type": "execute_result",
          "data": {
            "text/plain": [
              "2"
            ]
          },
          "metadata": {},
          "execution_count": 202
        }
      ]
    }
  ]
}